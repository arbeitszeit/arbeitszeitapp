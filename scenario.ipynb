{
 "cells": [
  {
   "cell_type": "code",
   "execution_count": null,
   "id": "33dcb43f",
   "metadata": {},
   "outputs": [],
   "source": [
    "from scenarios.dependency_injection import injector\n",
    "from arbeitszeit.use_cases import get_statistics, register_hours_worked, get_member_account, query_plans, show_my_accounts\n",
    "from tests.data_generators import MemberGenerator, CompanyGenerator, PlanGenerator, CooperationGenerator, ConsumptionGenerator\n",
    "from arbeitszeit.datetime_service import DatetimeService\n",
    "from arbeitszeit.records import ProductionCosts\n",
    "from datetime import datetime\n",
    "from pprint import pprint\n",
    "from decimal import Decimal"
   ]
  },
  {
   "cell_type": "markdown",
   "id": "0334e313",
   "metadata": {},
   "source": [
    "# Scenario"
   ]
  },
  {
   "cell_type": "markdown",
   "id": "e6c4edfa",
   "metadata": {},
   "source": [
    "#### Persons: \n",
    "\n",
    "- E1, E2: Europroducers (wage labourers)\n",
    "- A1: Graphic Designer\n",
    "- A2: Baker"
   ]
  },
  {
   "cell_type": "markdown",
   "id": "f5ea7076",
   "metadata": {},
   "source": [
    "## January 2, 2024\n",
    "\n",
    "E1 and E2 meet in the pub and, after two beers, decide to start an instance of the working time app. They want to feed €250 of their wages into the network each month as euro producers. The aim is to grow the labor time accounting economy. Every hour should count for the same amount in the network, resulting in an average remuneration. They agree to meet online every month to decide on the general rules of the network."
   ]
  },
  {
   "cell_type": "code",
   "execution_count": null,
   "metadata": {},
   "outputs": [],
   "source": [
    "datetime_service = injector.get(DatetimeService)\n",
    "\n",
    "datetime_service.freeze_time(datetime(2024, 1, 2))\n",
    "print(f\"Current date: {datetime_service.now()}\")"
   ]
  },
  {
   "cell_type": "markdown",
   "id": "4bf5dcad",
   "metadata": {},
   "source": [
    "## January 3, 2024"
   ]
  },
  {
   "cell_type": "code",
   "execution_count": null,
   "metadata": {},
   "outputs": [],
   "source": [
    "datetime_service.freeze_time(datetime(2024, 1, 3))\n",
    "print(f\"Current date: {datetime_service.now()}\")"
   ]
  },
  {
   "cell_type": "markdown",
   "metadata": {},
   "source": [
    "\n",
    "Both register as workers first, then each of them registers a euro producer company. Finally, they add themselves as workers to their company. "
   ]
  },
  {
   "cell_type": "code",
   "execution_count": null,
   "id": "7bf44365",
   "metadata": {},
   "outputs": [],
   "source": [
    "member_generator = injector.get(MemberGenerator)\n",
    "company_generator = injector.get(CompanyGenerator)\n",
    "\n",
    "e1_worker = {\"email\":\"e1_worker@mail.org\", \"name\":\"E1 Worker\", \"password\":\"safe\"}\n",
    "e1_worker_id = member_generator.create_member(email=e1_worker[\"email\"], name=e1_worker[\"name\"], password=e1_worker[\"password\"])\n",
    "e2_worker = {\"email\":\"e2_worker@mail.org\", \"name\":\"E2 Worker\", \"password\":\"safe\"}\n",
    "e2_worker_id = member_generator.create_member(email=e2_worker[\"email\"], name=e2_worker[\"name\"], password=e2_worker[\"password\"])\n",
    "\n",
    "e1_company = {\"email\":\"e1_company@mail.org\", \"name\":\"E1 Company\", \"password\":\"safe\"}\n",
    "e1_company_id = company_generator.create_company(email=e1_company[\"email\"], name=e1_company[\"name\"], password=e1_company[\"password\"], workers=[e1_worker_id])\n",
    "e2_company = {\"email\":\"e2_company@mail.org\", \"name\":\"E2 Company\", \"password\":\"safe\"}\n",
    "e2_company_id = company_generator.create_company(email=e2_company[\"email\"], name=e2_company[\"name\"], password=e2_company[\"password\"], workers=[e2_worker_id])"
   ]
  },
  {
   "cell_type": "markdown",
   "id": "affb26d1",
   "metadata": {},
   "source": [
    "The app's statistics now show 2 registered companies and 2 registered workers:"
   ]
  },
  {
   "cell_type": "code",
   "execution_count": null,
   "id": "c7972fa6",
   "metadata": {},
   "outputs": [],
   "source": [
    "get_statistics_use_case = injector.get(get_statistics.GetStatistics)\n",
    "get_statistics_response = get_statistics_use_case()\n",
    "print(f\"Registered companies: {get_statistics_response.registered_companies_count}\")\n",
    "print(f\"Registered members: {get_statistics_response.registered_members_count}\")"
   ]
  },
  {
   "cell_type": "markdown",
   "id": "2c51d158",
   "metadata": {},
   "source": [
    "## January 5, 2024"
   ]
  },
  {
   "cell_type": "code",
   "execution_count": null,
   "metadata": {},
   "outputs": [],
   "source": [
    "datetime_service.freeze_time(datetime(2024, 1, 5))\n",
    "print(f\"Current date: {datetime_service.now()}\")"
   ]
  },
  {
   "cell_type": "markdown",
   "metadata": {},
   "source": [
    "\n",
    "Two days later, both workers create a plan each in which they state that they want to produce 250 euros each in the upcoming month. E1 has a higher hourly wage (25€/hour) than E2 (10€/hour). This means, E2 has to work longer to produce 250€, his labour costs are higher."
   ]
  },
  {
   "cell_type": "code",
   "execution_count": null,
   "metadata": {},
   "outputs": [],
   "source": [
    "plan_generator = injector.get(PlanGenerator)\n",
    "plan_e1 = plan_generator.create_plan(\n",
    "    planner=e1_company_id,\n",
    "    amount = 250,\n",
    "    approved = True,\n",
    "    costs = ProductionCosts(resource_cost=Decimal(0), means_cost=Decimal(0), labour_cost=Decimal(10)),\n",
    "    product_name=\"Euros for the network.\",\n",
    "    production_unit=\"1 Euro\",\n",
    "    timeframe=30,\n",
    ")\n",
    "print(f\"Plan created: '{plan_e1.prd_name}'\")\n",
    "\n",
    "plan_e2 = plan_generator.create_plan(\n",
    "    planner=e2_company_id,\n",
    "    amount = 250,\n",
    "    approved = True,\n",
    "    costs = ProductionCosts(resource_cost=Decimal(0), means_cost=Decimal(0), labour_cost=Decimal(25)),\n",
    "    product_name=\"Euros for the network.\",\n",
    "    production_unit=\"1 Euro\",\n",
    "    timeframe=30,\n",
    ")\n",
    "print(f\"Plan created: '{plan_e2.prd_name}'\")"
   ]
  },
  {
   "cell_type": "markdown",
   "metadata": {},
   "source": [
    "The euros appear in the list of available products:"
   ]
  },
  {
   "cell_type": "code",
   "execution_count": null,
   "metadata": {},
   "outputs": [],
   "source": [
    "query_plans_use_case = injector.get(query_plans.QueryPlans)\n",
    "query_plans_response = query_plans_use_case(request=query_plans.QueryPlansRequest(query_string=\"\", filter_category=query_plans.PlanFilter.by_plan_id, sorting_category=query_plans.PlanSorting.by_company_name))\n",
    "products = [print(f\"'{plan.product_name}', by {plan.company_name}, Costs {round(plan.price_per_unit, 2)}\") for plan in query_plans_response.results]"
   ]
  },
  {
   "cell_type": "markdown",
   "metadata": {},
   "source": [
    "E1 and E2 register their hours worked and get remunerated with 10 and 25 work certificates respectively:"
   ]
  },
  {
   "cell_type": "code",
   "execution_count": null,
   "metadata": {},
   "outputs": [],
   "source": [
    "register_hours_worked_use_case = injector.get(register_hours_worked.RegisterHoursWorked)\n",
    "register_hours_worked_use_case(\n",
    "    use_case_request=register_hours_worked.RegisterHoursWorkedRequest(\n",
    "        company_id=e1_company_id,\n",
    "        worker_id=e1_worker_id,\n",
    "        hours_worked=10,\n",
    "    )\n",
    ")\n",
    "register_hours_worked_use_case(\n",
    "    use_case_request=register_hours_worked.RegisterHoursWorkedRequest(\n",
    "        company_id=e2_company_id,\n",
    "        worker_id=e2_worker_id,\n",
    "        hours_worked=25,\n",
    "    )\n",
    ")\n",
    "\n",
    "get_member_account_use_case = injector.get(get_member_account.GetMemberAccount)\n",
    "get_member_account_response1 = get_member_account_use_case(\n",
    "    member_id=e1_worker_id,\n",
    ")\n",
    "get_member_account_response2 = get_member_account_use_case(\n",
    "    member_id=e2_worker_id,\n",
    ")\n",
    "print(f\"Work certificates of E1: {get_member_account_response1.balance}\")\n",
    "print(f\"Work certificates of E2: {get_member_account_response2.balance}\")"
   ]
  },
  {
   "cell_type": "markdown",
   "metadata": {},
   "source": [
    "Both think it's great that they get remunerated for the hours actually worked. It doesn't matter anymore that they got different wages: For every hour worked they get 1 work certificate. \n",
    "\n",
    "On the other hand, they think it's unfair that the euros produced by E1 are \"cheaper\". Probably no one will spend their work certificates on E2's euros.\n",
    "\n",
    "So they create a cooperative, the cooperative of euro producers."
   ]
  },
  {
   "cell_type": "code",
   "execution_count": null,
   "metadata": {},
   "outputs": [],
   "source": [
    "cooperation_generator = injector.get(CooperationGenerator)\n",
    "cooperation_generator.create_cooperation(\n",
    "    name=\"Cooperation of Europroducers\",\n",
    "    coordinator=e1_company_id,\n",
    "    plans=[plan_e1, plan_e2],\n",
    ")\n",
    "print()"
   ]
  },
  {
   "cell_type": "markdown",
   "metadata": {},
   "source": [
    "As a result, now one euro now \"costs\" the same amount of work in the network."
   ]
  },
  {
   "cell_type": "code",
   "execution_count": null,
   "metadata": {},
   "outputs": [],
   "source": [
    "query_plans_use_case = injector.get(query_plans.QueryPlans)\n",
    "query_plans_response = query_plans_use_case(request=query_plans.QueryPlansRequest(query_string=\"\", filter_category=query_plans.PlanFilter.by_plan_id, sorting_category=query_plans.PlanSorting.by_company_name))\n",
    "products = [print(f\"'{plan.product_name}', by {plan.company_name}, Costs {round(plan.price_per_unit, 2)}\") for plan in query_plans_response.results]"
   ]
  },
  {
   "cell_type": "markdown",
   "metadata": {},
   "source": [
    "At this point, there are two plans and one cooperation in the economy:"
   ]
  },
  {
   "cell_type": "code",
   "execution_count": null,
   "metadata": {},
   "outputs": [],
   "source": [
    "get_statistics_use_case = injector.get(get_statistics.GetStatistics)\n",
    "get_statistics_response = get_statistics_use_case()\n",
    "print(f\"Active plans: {get_statistics_response.active_plans_count}\")\n",
    "print(f\"Cooperations: {get_statistics_response.cooperations_count}\")"
   ]
  },
  {
   "cell_type": "markdown",
   "metadata": {},
   "source": [
    "## January 10, 2024"
   ]
  },
  {
   "cell_type": "code",
   "execution_count": null,
   "metadata": {},
   "outputs": [],
   "source": [
    "datetime_service.freeze_time(datetime(2024, 1, 10))\n",
    "print(f\"Current date: {datetime_service.now()}\")"
   ]
  },
  {
   "cell_type": "markdown",
   "metadata": {},
   "source": [
    "A1 is a friend of E1 and E2 and a grafic designer. She offers to design an advertising flyer for the labour time accounting economy. She agrees to receive her emuneration through the labour time network.\n",
    "\n",
    "She estimates that she will have to work 20 hours for the flyer. \n",
    "\n",
    "She registers a worker and a company account and creates the plan."
   ]
  },
  {
   "cell_type": "code",
   "execution_count": null,
   "metadata": {},
   "outputs": [],
   "source": [
    "a1_member_id = member_generator.create_member(name=\"A1 Worker\", email=\"a1_worker@mail.org\", password=\"safe\")\n",
    "a1_company_id = company_generator.create_company(name=\"A1 Company\", email=\"a1_company@mail.org\", password=\"safe\", workers=[a1_member_id])\n",
    "\n",
    "plan_a1 = plan_generator.create_plan(\n",
    "    planner=a1_company_id,\n",
    "    amount = 1,\n",
    "    approved = True,\n",
    "    costs = ProductionCosts(resource_cost=Decimal(0), means_cost=Decimal(0), labour_cost=Decimal(20)),\n",
    "    product_name=\"Flyer design for the network.\",\n",
    "    production_unit=\"1 Flyer design\",\n",
    "    timeframe=10,\n",
    ")\n",
    "print(f\"Plan created: '{plan_a1.prd_name}'\")"
   ]
  },
  {
   "cell_type": "markdown",
   "metadata": {},
   "source": [
    "The Flyer appears in the list of available products:"
   ]
  },
  {
   "cell_type": "code",
   "execution_count": null,
   "metadata": {},
   "outputs": [],
   "source": [
    "query_plans_use_case = injector.get(query_plans.QueryPlans)\n",
    "query_plans_response = query_plans_use_case(request=query_plans.QueryPlansRequest(query_string=\"\", filter_category=query_plans.PlanFilter.by_plan_id, sorting_category=query_plans.PlanSorting.by_company_name))\n",
    "products = [print(f\"'{plan.product_name}', by {plan.company_name}, Costs {round(plan.price_per_unit, 2)}\") for plan in query_plans_response.results]"
   ]
  },
  {
   "cell_type": "markdown",
   "metadata": {},
   "source": [
    "## January 18, 2024"
   ]
  },
  {
   "cell_type": "code",
   "execution_count": null,
   "metadata": {},
   "outputs": [],
   "source": [
    "datetime_service.freeze_time(datetime(2024, 1, 18))\n",
    "print(f\"Current date: {datetime_service.now()}\")"
   ]
  },
  {
   "cell_type": "markdown",
   "metadata": {},
   "source": [
    "A1 finished designing the flyer. She registers 20 hours worked in order to receive certificates."
   ]
  },
  {
   "cell_type": "code",
   "execution_count": null,
   "metadata": {},
   "outputs": [],
   "source": [
    "register_hours_worked_use_case(\n",
    "    use_case_request=register_hours_worked.RegisterHoursWorkedRequest(\n",
    "        company_id=a1_company_id,\n",
    "        worker_id=a1_member_id,\n",
    "        hours_worked=20,\n",
    "    )\n",
    ")\n",
    "print()"
   ]
  },
  {
   "cell_type": "markdown",
   "metadata": {},
   "source": [
    "She spends her 20 work certificates to receive euros from E1. Each euro costs 0.07 hours, so she can \"buy\" 285 Euros with 20 certificates."
   ]
  },
  {
   "cell_type": "code",
   "execution_count": null,
   "metadata": {},
   "outputs": [],
   "source": [
    "consumption_generator = injector.get(ConsumptionGenerator)\n",
    "consumption_generator.create_private_consumption(\n",
    "    consumer=a1_member_id,\n",
    "    amount=285,\n",
    "    plan=plan_e1.id,\n",
    ")\n",
    "print()"
   ]
  },
  {
   "cell_type": "markdown",
   "metadata": {},
   "source": [
    "On the other hand, E1 spends his work cerificates to \"pay\" the flyer design."
   ]
  },
  {
   "cell_type": "code",
   "execution_count": null,
   "metadata": {},
   "outputs": [],
   "source": [
    "consumption_generator.create_private_consumption(\n",
    "    consumer=e1_worker_id,\n",
    "    amount=1,\n",
    "    plan=plan_a1.id,\n",
    ")\n",
    "print()"
   ]
  },
  {
   "cell_type": "markdown",
   "metadata": {},
   "source": [
    "The app's statistics now show 3 members, companies and plans:"
   ]
  },
  {
   "cell_type": "code",
   "execution_count": null,
   "metadata": {},
   "outputs": [],
   "source": [
    "get_statistics_response = get_statistics_use_case()\n",
    "pprint(get_statistics_response)"
   ]
  },
  {
   "cell_type": "markdown",
   "metadata": {},
   "source": [
    "## February 1st, 2024"
   ]
  },
  {
   "cell_type": "code",
   "execution_count": null,
   "metadata": {},
   "outputs": [],
   "source": [
    "datetime_service.freeze_time(datetime(2024, 2, 1))\n",
    "print(f\"Current date: {datetime_service.now()}\")"
   ]
  },
  {
   "cell_type": "markdown",
   "metadata": {},
   "source": [
    "The monthly online meeting takes place. All three workers are invited. They are having a look at their accounts."
   ]
  },
  {
   "cell_type": "code",
   "execution_count": null,
   "metadata": {},
   "outputs": [],
   "source": [
    "get_member_account_response1 = get_member_account_use_case(\n",
    "    member_id=e1_worker_id,\n",
    ")\n",
    "get_member_account_response2 = get_member_account_use_case(\n",
    "    member_id=e2_worker_id,\n",
    ")\n",
    "get_member_account_response3 = get_member_account_use_case(\n",
    "    member_id=a1_member_id,\n",
    ")\n",
    "print(f\"Work certificates of E1: {get_member_account_response1.balance}\")\n",
    "print(f\"Work certificates of E2: {get_member_account_response2.balance}\")\n",
    "print(f\"Work certificates of A1: {round(get_member_account_response3.balance, 2)}\")\n",
    "\n",
    "show_my_accounts_use_case = injector.get(show_my_accounts.ShowMyAccounts)\n",
    "\n",
    "show_e1_accounts_response = show_my_accounts_use_case(\n",
    "    request=show_my_accounts.ShowMyAccountsRequest(\n",
    "        current_user=e1_company_id,\n",
    ")\n",
    ")\n",
    "e1_p, e1_r, e1_a, e1_prd = show_e1_accounts_response.balances\n",
    "print(f\"Account balances of E1: {e1_p} (p), {e1_r} (r), {e1_a} (a), {e1_prd} (prd)\")\n",
    "\n",
    "show_e2_accounts_response = show_my_accounts_use_case(\n",
    "    request=show_my_accounts.ShowMyAccountsRequest(\n",
    "        current_user=e2_company_id,\n",
    ")\n",
    ")\n",
    "e2_p, e2_r, e2_a, e2_prd = show_e2_accounts_response.balances\n",
    "print(f\"Account balances of E2: {e2_p} (p), {e2_r} (r), {e2_a} (a), {e2_prd} (prd)\")\n",
    "\n",
    "show_a1_accounts_response = show_my_accounts_use_case(\n",
    "    request=show_my_accounts.ShowMyAccountsRequest(\n",
    "        current_user=a1_company_id,\n",
    ")\n",
    ")\n",
    "a1_p, a1_r, a1_a, a1_prd = show_a1_accounts_response.balances\n",
    "print(f\"Account balances of A1: {a1_p} (p), {a1_r} (r), {a1_a} (a), {a1_prd} (prd)\")"
   ]
  },
  {
   "cell_type": "markdown",
   "metadata": {},
   "source": [
    "The three workers notice, that the euro producers have not gotten rid of all their euros: E2 has spend 25 hours less than expected (prd=-25). E1 spent some more Euros than expected (prd=+1,40). \n",
    "\n",
    "They decide that, in general, more euros should be spent.\n",
    "E1 and E2 decide not to file new euro producer plans, until there is more demand.\n",
    "\n",
    "They notice also, that E1 has overdrawn his worker account, while E2 has not spent any of his certificates. They decide that the next project should be mainly \"paid\" by E2. \n"
   ]
  },
  {
   "cell_type": "markdown",
   "metadata": {},
   "source": [
    "## February 3, 2024 "
   ]
  },
  {
   "cell_type": "code",
   "execution_count": null,
   "metadata": {},
   "outputs": [],
   "source": [
    "datetime_service.freeze_time(datetime(2024, 2, 3))\n",
    "print(f\"Current date: {datetime_service.now()}\")"
   ]
  },
  {
   "cell_type": "markdown",
   "metadata": {},
   "source": [
    "A new worker, A2, joins the economy. He uses 70 Euros and 20 hours of his working time to bake 15 breads in the upcoming month.\n",
    "\n",
    "Currently, one euro costs 0,07 hours, so A2 has to plan 4,9 hours as ressource costs to be able to spend 70 Euros on his means of production."
   ]
  },
  {
   "cell_type": "code",
   "execution_count": null,
   "metadata": {},
   "outputs": [],
   "source": [
    "a2_member_id = member_generator.create_member(name=\"A2 Worker\", email=\"a2_worker@mail.org\", password=\"safe\")\n",
    "a2_company_id = company_generator.create_company(name=\"A2 Company\", email=\"a2_company@mail.org\", password=\"safe\", workers=[a2_member_id])\n",
    "\n",
    "plan_a2 = plan_generator.create_plan(\n",
    "    planner=a2_company_id,\n",
    "    amount = 15,\n",
    "    approved = True,\n",
    "    costs = ProductionCosts(resource_cost=Decimal(\"4.9\"), means_cost=Decimal(0), labour_cost=Decimal(20)),\n",
    "    product_name=\"Bread.\",\n",
    "    production_unit=\"1 piece\",\n",
    "    timeframe=30,\n",
    ")\n",
    "print(f\"Plan created: '{plan_a2.prd_name}'\")"
   ]
  },
  {
   "cell_type": "markdown",
   "metadata": {},
   "source": [
    "The bread appears in the list of available products:"
   ]
  },
  {
   "cell_type": "code",
   "execution_count": null,
   "metadata": {},
   "outputs": [],
   "source": [
    "query_plans_response = query_plans_use_case(request=query_plans.QueryPlansRequest(query_string=\"\", filter_category=query_plans.PlanFilter.by_plan_id, sorting_category=query_plans.PlanSorting.by_company_name))\n",
    "products = [print(f\"'{plan.product_name}', Costs {round(plan.price_per_unit, 2)}\") for plan in query_plans_response.results]"
   ]
  },
  {
   "cell_type": "markdown",
   "metadata": {},
   "source": [
    "A2 receives 70€ for resources/means of production from E2 and registers this transfer. He starts to produce the bread."
   ]
  },
  {
   "cell_type": "code",
   "execution_count": null,
   "metadata": {},
   "outputs": [],
   "source": [
    "consumption_generator.create_resource_consumption_by_company(\n",
    "    consumer=a2_company_id,\n",
    "    amount=70,\n",
    "    plan=plan_e2.id,\n",
    ")\n",
    "print()"
   ]
  },
  {
   "cell_type": "markdown",
   "metadata": {},
   "source": [
    "Moreover, because the baker A2 does not find useful products in the labour time economy, he decides to use his 20 work certificates to \"buy\" euros from E2.\n",
    "If each euro costs 0,07 hours, he can get 285€."
   ]
  },
  {
   "cell_type": "code",
   "execution_count": null,
   "metadata": {},
   "outputs": [],
   "source": [
    "register_hours_worked_use_case(\n",
    "    use_case_request=register_hours_worked.RegisterHoursWorkedRequest(\n",
    "        company_id=a2_company_id,\n",
    "        worker_id=a2_member_id,\n",
    "        hours_worked=20,\n",
    "    )\n",
    ")\n",
    "consumption_generator.create_private_consumption(\n",
    "    consumer=a2_member_id,\n",
    "    amount=285,\n",
    "    plan=plan_e2.id,\n",
    ")\n",
    "print()"
   ]
  },
  {
   "cell_type": "markdown",
   "metadata": {},
   "source": [
    "## February 10, 2024"
   ]
  },
  {
   "cell_type": "code",
   "execution_count": null,
   "metadata": {},
   "outputs": [],
   "source": [
    "datetime_service.freeze_time(datetime(2024, 2, 10))\n",
    "print(f\"Current date: {datetime_service.now()}\")"
   ]
  },
  {
   "cell_type": "markdown",
   "metadata": {},
   "source": [
    "E2 uses his work certificates to \"buy\" all 15 breads from A2 "
   ]
  },
  {
   "cell_type": "code",
   "execution_count": null,
   "metadata": {},
   "outputs": [],
   "source": [
    "consumption_generator.create_private_consumption(\n",
    "    consumer=e2_worker_id,\n",
    "    amount=15,\n",
    "    plan=plan_a2.id,\n",
    ")\n",
    "print()"
   ]
  },
  {
   "cell_type": "markdown",
   "metadata": {},
   "source": [
    "## March 1, 2024"
   ]
  },
  {
   "cell_type": "markdown",
   "metadata": {},
   "source": [
    "All four workers are invited for the monthly online meeting. \n",
    "Again, they are reviewing the accounts."
   ]
  },
  {
   "cell_type": "code",
   "execution_count": null,
   "metadata": {},
   "outputs": [],
   "source": [
    "get_member_account_response1 = get_member_account_use_case(\n",
    "    member_id=e1_worker_id,\n",
    ")\n",
    "get_member_account_response2 = get_member_account_use_case(\n",
    "    member_id=e2_worker_id,\n",
    ")\n",
    "get_member_account_response3 = get_member_account_use_case(\n",
    "    member_id=a1_member_id,\n",
    ")\n",
    "get_member_account_response4 = get_member_account_use_case(\n",
    "    member_id=a2_member_id,\n",
    ")\n",
    "print(f\"Work certificates of E1: {get_member_account_response1.balance}\")\n",
    "print(f\"Work certificates of E2: {get_member_account_response2.balance}\")\n",
    "print(f\"Work certificates of A1: {round(get_member_account_response3.balance, 2)}\")\n",
    "print(f\"Work certificates of A2: {round(get_member_account_response4.balance, 2)}\")\n",
    "\n",
    "show_e1_accounts_response = show_my_accounts_use_case(\n",
    "    request=show_my_accounts.ShowMyAccountsRequest(\n",
    "        current_user=e1_company_id,\n",
    ")\n",
    ")\n",
    "e1_p, e1_r, e1_a, e1_prd = show_e1_accounts_response.balances\n",
    "print(f\"Account balances of E1: {e1_p} (p), {e1_r} (r), {e1_a} (a), {e1_prd} (prd)\")\n",
    "\n",
    "show_e2_accounts_response = show_my_accounts_use_case(\n",
    "    request=show_my_accounts.ShowMyAccountsRequest(\n",
    "        current_user=e2_company_id,\n",
    ")\n",
    ")\n",
    "e2_p, e2_r, e2_a, e2_prd = show_e2_accounts_response.balances\n",
    "print(f\"Account balances of E2: {e2_p} (p), {e2_r} (r), {e2_a} (a), {e2_prd} (prd)\")\n",
    "\n",
    "show_a1_accounts_response = show_my_accounts_use_case(\n",
    "    request=show_my_accounts.ShowMyAccountsRequest(\n",
    "        current_user=a1_company_id,\n",
    ")\n",
    ")\n",
    "a1_p, a1_r, a1_a, a1_prd = show_a1_accounts_response.balances\n",
    "print(f\"Account balances of A1: {a1_p} (p), {a1_r} (r), {a1_a} (a), {a1_prd} (prd)\")\n",
    "\n",
    "show_a2_accounts_response = show_my_accounts_use_case(\n",
    "    request=show_my_accounts.ShowMyAccountsRequest(\n",
    "        current_user=a2_company_id,\n",
    ")\n",
    ")\n",
    "a2_p, a2_r, a2_a, a2_prd = show_a2_accounts_response.balances\n",
    "print(f\"Account balances of A2: {a2_p} (p), {round(a2_r, 2)} (r), {a2_a} (a), {a2_prd} (prd)\")"
   ]
  },
  {
   "cell_type": "markdown",
   "metadata": {},
   "source": [
    "The workers notice, that the planning has been quite accurate, but that they have spent more euros than planned (E2 prd=+10,50, E1 prd=+1,40).\n",
    "\n",
    "It shows also in the global app statistics, that accounts have been overdrawn:"
   ]
  },
  {
   "cell_type": "code",
   "execution_count": null,
   "metadata": {},
   "outputs": [],
   "source": [
    "get_statistics_response = get_statistics_use_case()\n",
    "print(f\"Available certificates and hours on 'A' accounts: {round(get_statistics_response.certificates_count, 2)}\")\n",
    "print(f\"Available product: {get_statistics_response.available_product}\")"
   ]
  }
 ],
 "metadata": {
  "kernelspec": {
   "display_name": "jupyter",
   "language": "python",
   "name": "python3"
  },
  "language_info": {
   "codemirror_mode": {
    "name": "ipython",
    "version": 3
   },
   "file_extension": ".py",
   "mimetype": "text/x-python",
   "name": "python",
   "nbconvert_exporter": "python",
   "pygments_lexer": "ipython3",
   "version": "3.10.13"
  }
 },
 "nbformat": 4,
 "nbformat_minor": 5
}
